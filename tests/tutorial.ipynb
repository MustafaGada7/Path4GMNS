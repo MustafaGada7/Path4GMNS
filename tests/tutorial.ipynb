{
 "cells": [
  {
   "cell_type": "markdown",
   "id": "fifteen-beast",
   "metadata": {},
   "source": [
    "# Installation"
   ]
  },
  {
   "cell_type": "code",
   "execution_count": null,
   "id": "global-waste",
   "metadata": {
    "scrolled": true
   },
   "outputs": [],
   "source": [
    "pip install path4gmns"
   ]
  },
  {
   "cell_type": "markdown",
   "id": "third-oklahoma",
   "metadata": {},
   "source": [
    "# Prepare Data Set\n",
    "\n",
    "You can either download the sample data sets with the built-in function or prepare your own data set. node.csv and link.csv complying GMNS is the minimum requirement for you to get started."
   ]
  },
  {
   "cell_type": "code",
   "execution_count": null,
   "id": "helpful-spending",
   "metadata": {},
   "outputs": [],
   "source": [
    "import path4gmns as pg"
   ]
  },
  {
   "cell_type": "code",
   "execution_count": null,
   "id": "documentary-transparency",
   "metadata": {},
   "outputs": [],
   "source": [
    "pg.download_sample_data_sets()"
   ]
  },
  {
   "cell_type": "markdown",
   "id": "annoying-berry",
   "metadata": {},
   "source": [
    "Navigate to the target data set directory. Here we will use the data set where this Jupyter notebook is located."
   ]
  },
  {
   "cell_type": "code",
   "execution_count": null,
   "id": "inner-vintage",
   "metadata": {},
   "outputs": [],
   "source": [
    "pwd"
   ]
  },
  {
   "cell_type": "markdown",
   "id": "understanding-discretion",
   "metadata": {},
   "source": [
    "# The Basic Functionalties\n",
    "## Get the Shortest Path between Two Nodes\n",
    "Find the (static) shortest path (based on distance) and output it in the format of a sequence of node/link IDs."
   ]
  },
  {
   "cell_type": "code",
   "execution_count": null,
   "id": "introductory-laser",
   "metadata": {},
   "outputs": [],
   "source": [
    "network = pg.read_network(load_demand=False)\n",
    "\n",
    "print('\\nshortest path (node id) from node 1 to node 2, '\n",
    "      +network.find_shortest_path(1, 2))\n",
    "print('\\nshortest path (link id) from node 1 to node 2, '\n",
    "      +network.find_shortest_path(1, 2, seq_type='link'))"
   ]
  },
  {
   "cell_type": "markdown",
   "id": "stuffed-roman",
   "metadata": {},
   "source": [
    "## Find Shortest Paths for All Individual Agents\n",
    "\n",
    "Agents are disaggreated demand using the aggregated travel demand between each OD pair, which is specified in demand.csv. Individual agents will be automatically set up via find_path_for_agents() on its first call.\n",
    "### If you have demand.csv"
   ]
  },
  {
   "cell_type": "code",
   "execution_count": null,
   "id": "occupational-double",
   "metadata": {},
   "outputs": [],
   "source": [
    "network = pg.read_network()\n",
    "network.find_path_for_agents()\n",
    "\n",
    "agent_id = 300\n",
    "print('\\norigin node id of agent is '\n",
    "      f'{network.get_agent_orig_node_id(agent_id)}')\n",
    "print('destination node id of agent is '\n",
    "      f'{network.get_agent_dest_node_id(agent_id)}')\n",
    "print('shortest path (node id) of agent, '\n",
    "      f'{network.get_agent_node_path(agent_id)}')\n",
    "print('shortest path (link id) of agent, '\n",
    "      f'{network.get_agent_link_path(agent_id)}')\n",
    "\n",
    "agent_id = 1000\n",
    "print('\\norigin node id of agent is '\n",
    "      f'{network.get_agent_orig_node_id(agent_id)}')\n",
    "print('destination node id of agent is '\n",
    "      f'{network.get_agent_dest_node_id(agent_id)}')\n",
    "print('shortest path (node id) of agent, '\n",
    "      f'{network.get_agent_node_path(agent_id)}')\n",
    "print('shortest path (link id) of agent, '\n",
    "      f'{network.get_agent_link_path(agent_id)}')\n",
    "\n",
    "# output unique agent paths to a csv file\n",
    "# if you do not want to include geometry info in the output file,\n",
    "# use pg.output_agent_paths(network, False)\n",
    "pg.output_agent_paths(network)"
   ]
  },
  {
   "cell_type": "markdown",
   "id": "registered-complexity",
   "metadata": {},
   "source": [
    "### If you do not have demand.csv\n",
    "Path4GMNS can synthesize zones and OD demand matrix for you.\n",
    "#### Synthesize zones and OD demand matrix"
   ]
  },
  {
   "cell_type": "code",
   "execution_count": null,
   "id": "viral-civilian",
   "metadata": {
    "scrolled": false
   },
   "outputs": [],
   "source": [
    "network = pg.read_network(load_demand=False)\n",
    "\n",
    "# by default, grid_dimension is 8, total_demand is 10,000,\n",
    "# time_budget is 120 min, mode is 'auto'\n",
    "pg.network_to_zones(network)\n",
    "pg.output_zones(network)\n",
    "pg.output_synthesized_demand(network)"
   ]
  },
  {
   "cell_type": "markdown",
   "id": "flush-electricity",
   "metadata": {},
   "source": [
    "#### Load the synthesized zones and OD demand matrix"
   ]
  },
  {
   "cell_type": "code",
   "execution_count": null,
   "id": "brilliant-court",
   "metadata": {},
   "outputs": [],
   "source": [
    "pg.read_zones(network)\n",
    "pg.load_demand(network, filename='syn_demand.csv')"
   ]
  },
  {
   "cell_type": "markdown",
   "id": "systematic-criminal",
   "metadata": {},
   "source": [
    "#### Find Shortest Paths for All Individual Agents"
   ]
  },
  {
   "cell_type": "code",
   "execution_count": null,
   "id": "fifth-geometry",
   "metadata": {},
   "outputs": [],
   "source": [
    "network.find_path_for_agents()\n",
    "\n",
    "# output unique agent paths to a csv file\n",
    "# if you do not want to include geometry info in the output file,\n",
    "# use pg.output_agent_paths(network, False)\n",
    "pg.output_agent_paths(network)"
   ]
  },
  {
   "cell_type": "markdown",
   "id": "mysterious-diamond",
   "metadata": {},
   "source": [
    "## Perform Path-Based UE Traffic Assignment\n",
    "\n",
    "Similar to Finding Shortest Paths for All Individual Agents, OD demand matrix is also need to perform this functionality.\n",
    "\n",
    "Assume you have successfully load the demand via either pg.read_network() in cell 5 or pg.load_demand(network, filename='syn_demand.csv') in cell 8. Then you can conduct traffic assignment via the following lines."
   ]
  },
  {
   "cell_type": "code",
   "execution_count": null,
   "id": "advance-bridges",
   "metadata": {},
   "outputs": [],
   "source": [
    "column_gen_num = 20\n",
    "column_update_num = 10\n",
    "\n",
    "# path-based UE only\n",
    "pg.perform_column_generation(column_gen_num, column_update_num, network)\n",
    "\n",
    "# if you do not want to include geometry info in the output file,\n",
    "# use pg.output_columns(network, False)\n",
    "pg.output_columns(network)\n",
    "pg.output_link_performance(network)"
   ]
  },
  {
   "cell_type": "markdown",
   "id": "accepting-indian",
   "metadata": {},
   "source": [
    "# Move Foward to Multimodal Evaluation\n",
    "\n",
    "In order to perform multimodal evaluation, the corresponding modes (i.e., agent types) must be presented in settings.yml. It will be parsed by pyyaml (5.1 or higher) to the Python engine at run-time. A sample file looks like blow.\n",
    "\n",
    "```yaml\n",
    "agents:\n",
    "  - type: a\n",
    "    name: auto\n",
    "    vot: 10\n",
    "    flow_type: 0\n",
    "    pce: 1\n",
    "    free_speed: 60\n",
    "    use_link_ffs: true\n",
    "  - type: w\n",
    "    name: walk\n",
    "    vot: 10\n",
    "    flow_type: 0\n",
    "    pce: 1\n",
    "    free_speed: 10\n",
    "    use_link_ffs: false\n",
    "\n",
    "demand_periods:\n",
    "  - period: AM\n",
    "    time_period: 0700_0800\n",
    "\n",
    "demand_files:\n",
    "  - file_name: demand.csv\n",
    "    format_type: column\n",
    "    period: AM\n",
    "    agent_type: a\n",
    "```\n",
    "\n",
    "## Get the Shortest Path between Two Nodes under a Specific Mode\n",
    "In cell 4, we use this functionlity for the default mode, which is 'a' or equivalently 'auto'. Now with 'walk' defined in settings.yml, we are able to find the shortest path under mode 'w' or 'walk'."
   ]
  },
  {
   "cell_type": "code",
   "execution_count": null,
   "id": "continuous-baker",
   "metadata": {},
   "outputs": [],
   "source": [
    "network = pg.read_network(load_demand=False)\n",
    "\n",
    "print('\\nshortest path (node id) from node 1 to node 2, '\n",
    "      +network.find_shortest_path(1, 2, mode='w'))\n",
    "print('\\nshortest path (link id) from node 1 to node 2, '\n",
    "      +network.find_shortest_path(1, 2, mode='w', seq_type='link'))"
   ]
  },
  {
   "cell_type": "markdown",
   "id": "balanced-cattle",
   "metadata": {},
   "source": [
    "For this test data set, cells 4 and 12 have the same results as each link is open to all modes, i.e., their \"allowed_uses\" are \"all\".  "
   ]
  },
  {
   "cell_type": "code",
   "execution_count": null,
   "id": "velvet-creator",
   "metadata": {},
   "outputs": [],
   "source": [
    "network = pg.read_network()\n",
    "network.find_path_for_agents()\n",
    "\n",
    "# or equivalently network.find_path_for_agents('walk')\n",
    "network.find_path_for_agents('w')\n",
    "\n",
    "# retrieving the origin, the destination, and the shortest path of a given agent\n",
    "# is exactly the same as before as well as outputting all unique agent paths\n",
    "pg.output_agent_paths(network)"
   ]
  },
  {
   "cell_type": "code",
   "execution_count": null,
   "id": "balanced-structure",
   "metadata": {},
   "outputs": [],
   "source": []
  }
 ],
 "metadata": {
  "kernelspec": {
   "display_name": "Python 3",
   "language": "python",
   "name": "python3"
  },
  "language_info": {
   "codemirror_mode": {
    "name": "ipython",
    "version": 3
   },
   "file_extension": ".py",
   "mimetype": "text/x-python",
   "name": "python",
   "nbconvert_exporter": "python",
   "pygments_lexer": "ipython3",
   "version": "3.7.6"
  },
  "vscode": {
   "interpreter": {
    "hash": "40d3a090f54c6569ab1632332b64b2c03c39dcf918b08424e98f38b5ae0af88f"
   }
  }
 },
 "nbformat": 4,
 "nbformat_minor": 5
}
